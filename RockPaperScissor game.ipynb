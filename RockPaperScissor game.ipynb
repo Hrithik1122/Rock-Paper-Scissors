{
 "cells": [
  {
   "cell_type": "code",
   "execution_count": 1,
   "id": "9a2634c4",
   "metadata": {},
   "outputs": [
    {
     "name": "stdout",
     "output_type": "stream",
     "text": [
      "Welcome to Rock, Paper, Secissor Game!!!\n",
      "\n",
      " Enter Your Choice! 'r' for Rock, 'p' for Paper, 's', for secissor\n",
      "\n",
      "r\n",
      "\n",
      "You choose r, Computer choose s.\n",
      "\n"
     ]
    },
    {
     "data": {
      "text/plain": [
       "'YOU WIN!!'"
      ]
     },
     "execution_count": 1,
     "metadata": {},
     "output_type": "execute_result"
    }
   ],
   "source": [
    "import random\n",
    "print(\"Welcome to Rock, Paper, Secissor Game!!!\\n\")\n",
    "\n",
    "def play():\n",
    "    user = input(\" Enter Your Choice! 'r' for Rock, 'p' for Paper, 's', for secissor\\n\\n\")\n",
    "    computer = random.choice(['r','p', 's'])\n",
    "    \n",
    "    print(f\"\\nYou choose {user}, Computer choose {computer}.\\n\")\n",
    "    \n",
    "    if user == computer:\n",
    "        return \"It's Tie\"\n",
    "    \n",
    "    if (user == 'r' and computer == 's') or (user == 'p' and computer == 'r') or (user == 's' and computer == 'p'):\n",
    "        return \"YOU WIN!!\"\n",
    "    \n",
    "    return \"You Lost!\"\n",
    "play()"
   ]
  },
  {
   "cell_type": "code",
   "execution_count": null,
   "id": "5b1ea2ae",
   "metadata": {},
   "outputs": [],
   "source": []
  },
  {
   "cell_type": "raw",
   "id": "85ff88a1",
   "metadata": {},
   "source": []
  }
 ],
 "metadata": {
  "kernelspec": {
   "display_name": "Python 3",
   "language": "python",
   "name": "python3"
  },
  "language_info": {
   "codemirror_mode": {
    "name": "ipython",
    "version": 3
   },
   "file_extension": ".py",
   "mimetype": "text/x-python",
   "name": "python",
   "nbconvert_exporter": "python",
   "pygments_lexer": "ipython3",
   "version": "3.7.9"
  }
 },
 "nbformat": 4,
 "nbformat_minor": 5
}
